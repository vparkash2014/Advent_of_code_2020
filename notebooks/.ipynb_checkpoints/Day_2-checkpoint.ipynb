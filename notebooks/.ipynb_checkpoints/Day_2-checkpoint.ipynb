{
 "cells": [
  {
   "cell_type": "markdown",
   "metadata": {},
   "source": [
    "# Day 2: Password Philosophy\n",
    "\n",
    "Your flight departs in a few days from the coastal airport; the easiest way down to the coast from here is via toboggan.\n",
    "\n",
    "The shopkeeper at the North Pole Toboggan Rental Shop is having a bad day. \"Something's wrong with our computers; we can't log in!\" You ask if you can take a look.\n",
    "\n",
    "Their password database seems to be a little corrupted: some of the passwords wouldn't have been allowed by the Official Toboggan Corporate Policy that was in effect when they were chosen.\n",
    "\n",
    "To try to debug the problem, they have created a list (your puzzle input) of passwords (according to the corrupted database) and the corporate policy when that password was set.\n",
    "\n",
    "For example, suppose you have the following list:\n",
    "\n",
    "1-3 a: abcde\n",
    "\n",
    "1-3 b: cdefg\n",
    "\n",
    "2-9 c: ccccccccc\n",
    "\n",
    "Each line gives the password policy and then the password. The password policy indicates the lowest and highest number of times a given letter must appear for the password to be valid. For example, 1-3 a means that the password must contain a at least 1 time and at most 3 times.\n",
    "\n",
    "In the above example, 2 passwords are valid. The middle password, cdefg, is not; it contains no instances of b, but needs at least 1. The first and third passwords are valid: they contain one a or nine c, both within the limits of their respective policies.\n",
    "\n",
    "How many passwords are valid according to their policies?"
   ]
  },
  {
   "cell_type": "code",
   "execution_count": 1,
   "metadata": {
    "ExecuteTime": {
     "end_time": "2020-12-03T00:48:54.985792Z",
     "start_time": "2020-12-03T00:48:54.189011Z"
    }
   },
   "outputs": [],
   "source": [
    "import numpy as np\n",
    "import pandas as pd"
   ]
  },
  {
   "cell_type": "code",
   "execution_count": 2,
   "metadata": {
    "ExecuteTime": {
     "end_time": "2020-12-03T00:48:55.010639Z",
     "start_time": "2020-12-03T00:48:54.987777Z"
    }
   },
   "outputs": [],
   "source": [
    "# set the directory for data files\n",
    "file = 'Day_2_input.txt'\n",
    "header_list = ['repeats', 'rule', 'password']\n",
    "data = pd.read_csv(file, delim_whitespace=True, names=header_list) \n",
    "data['rule'] = data['rule'].map(lambda x: x.rstrip(':'))\n",
    "data[['min', 'max']] = data.repeats.str.split(\"-\",expand = True)"
   ]
  },
  {
   "cell_type": "code",
   "execution_count": 3,
   "metadata": {
    "ExecuteTime": {
     "end_time": "2020-12-03T00:48:55.016384Z",
     "start_time": "2020-12-03T00:48:55.012903Z"
    }
   },
   "outputs": [],
   "source": [
    "test = pd.DataFrame(np.array( [ [1, 3, 'a', 'abcde' ], [1, 3, 'b', 'cdefg'],\n",
    "                               [2, 9, 'c', 'ccccccccc'] ]),\n",
    "                    columns = ['min', 'max', 'rule', 'password'])\n"
   ]
  },
  {
   "cell_type": "code",
   "execution_count": 4,
   "metadata": {
    "ExecuteTime": {
     "end_time": "2020-12-03T00:48:55.024075Z",
     "start_time": "2020-12-03T00:48:55.018602Z"
    }
   },
   "outputs": [
    {
     "name": "stdout",
     "output_type": "stream",
     "text": [
      "the number of correct passwords are 2\n"
     ]
    }
   ],
   "source": [
    "### Testing in the test sample\n",
    "count = 0\n",
    "\n",
    "for ind, pw in enumerate(test.password):\n",
    "    num = pw.count(test.rule[ind])\n",
    "    if num >= float(test['min'][ind]) and num <= float(test['max'][ind]):\n",
    "        count += 1\n",
    "\n",
    "print('the number of correct passwords are', count)"
   ]
  },
  {
   "cell_type": "code",
   "execution_count": 5,
   "metadata": {
    "ExecuteTime": {
     "end_time": "2020-12-03T00:48:55.053680Z",
     "start_time": "2020-12-03T00:48:55.025930Z"
    }
   },
   "outputs": [
    {
     "name": "stdout",
     "output_type": "stream",
     "text": [
      "the number of correct passwords are 600\n"
     ]
    }
   ],
   "source": [
    "count = 0\n",
    "for ind, pw in enumerate(data.password):\n",
    "    num = pw.count(data.rule[ind])\n",
    "    if num >= float(data['min'][ind]) and num <= float(data['max'][ind]):\n",
    "        count += 1\n",
    "\n",
    "print('the number of correct passwords are', count)"
   ]
  },
  {
   "cell_type": "markdown",
   "metadata": {},
   "source": [
    "# Part Two \n",
    "\n",
    "While it appears you validated the passwords correctly, they don't seem to be what the Official Toboggan Corporate Authentication System is expecting.\n",
    "\n",
    "The shopkeeper suddenly realizes that he just accidentally explained the password policy rules from his old job at the sled rental place down the street! The Official Toboggan Corporate Policy actually works a little differently.\n",
    "\n",
    "Each policy actually describes two positions in the password, where 1 means the first character, 2 means the second character, and so on. (Be careful; Toboggan Corporate Policies have no concept of \"index zero\"!) Exactly one of these positions must contain the given letter. Other occurrences of the letter are irrelevant for the purposes of policy enforcement.\n",
    "\n",
    "Given the same example list from above:\n",
    "\n",
    "1-3 a: abcde is valid: position 1 contains a and position 3 does not.\n",
    "\n",
    "1-3 b: cdefg is invalid: neither position 1 nor position 3 contains b.\n",
    "\n",
    "2-9 c: ccccccccc is invalid: both position 2 and position 9 contain c.\n",
    "\n",
    "How many passwords are valid according to the new interpretation of the policies?"
   ]
  },
  {
   "cell_type": "code",
   "execution_count": 6,
   "metadata": {
    "ExecuteTime": {
     "end_time": "2020-12-03T00:48:55.063095Z",
     "start_time": "2020-12-03T00:48:55.055968Z"
    }
   },
   "outputs": [
    {
     "name": "stdout",
     "output_type": "stream",
     "text": [
      "the number of correct passwords are 1\n"
     ]
    }
   ],
   "source": [
    "count = 0\n",
    "for ind, pw in enumerate(test.password):\n",
    "    first = pw[int(test['min'][ind]) - 1] == test.rule[ind] \n",
    "    second = pw[int(test['max'][ind]) - 1] == test.rule[ind]\n",
    "    if first != second:\n",
    "        count += 1\n",
    "\n",
    "print('the number of correct passwords are', count)\n"
   ]
  },
  {
   "cell_type": "code",
   "execution_count": 7,
   "metadata": {
    "ExecuteTime": {
     "end_time": "2020-12-03T00:48:55.104494Z",
     "start_time": "2020-12-03T00:48:55.064934Z"
    }
   },
   "outputs": [
    {
     "name": "stdout",
     "output_type": "stream",
     "text": [
      "the number of correct passwords are 245\n"
     ]
    }
   ],
   "source": [
    "count = 0\n",
    "for ind, pw in enumerate(data.password):\n",
    "    first = pw[int(data['min'][ind]) - 1] == data.rule[ind] \n",
    "    second = pw[int(data['max'][ind]) - 1] == data.rule[ind]\n",
    "    if first != second:\n",
    "        count += 1\n",
    "\n",
    "print('the number of correct passwords are', count)"
   ]
  }
 ],
 "metadata": {
  "kernelspec": {
   "display_name": "Python 3",
   "language": "python",
   "name": "python3"
  },
  "language_info": {
   "codemirror_mode": {
    "name": "ipython",
    "version": 3
   },
   "file_extension": ".py",
   "mimetype": "text/x-python",
   "name": "python",
   "nbconvert_exporter": "python",
   "pygments_lexer": "ipython3",
   "version": "3.7.8"
  },
  "latex_envs": {
   "LaTeX_envs_menu_present": true,
   "autoclose": false,
   "autocomplete": true,
   "bibliofile": "biblio.bib",
   "cite_by": "apalike",
   "current_citInitial": 1,
   "eqLabelWithNumbers": true,
   "eqNumInitial": 1,
   "hotkeys": {
    "equation": "Ctrl-E",
    "itemize": "Ctrl-I"
   },
   "labels_anchors": false,
   "latex_user_defs": false,
   "report_style_numbering": false,
   "user_envs_cfg": false
  },
  "toc": {
   "base_numbering": 1,
   "nav_menu": {},
   "number_sections": true,
   "sideBar": true,
   "skip_h1_title": false,
   "title_cell": "Table of Contents",
   "title_sidebar": "Contents",
   "toc_cell": false,
   "toc_position": {},
   "toc_section_display": true,
   "toc_window_display": false
  },
  "varInspector": {
   "cols": {
    "lenName": 16,
    "lenType": 16,
    "lenVar": 40
   },
   "kernels_config": {
    "python": {
     "delete_cmd_postfix": "",
     "delete_cmd_prefix": "del ",
     "library": "var_list.py",
     "varRefreshCmd": "print(var_dic_list())"
    },
    "r": {
     "delete_cmd_postfix": ") ",
     "delete_cmd_prefix": "rm(",
     "library": "var_list.r",
     "varRefreshCmd": "cat(var_dic_list()) "
    }
   },
   "types_to_exclude": [
    "module",
    "function",
    "builtin_function_or_method",
    "instance",
    "_Feature"
   ],
   "window_display": false
  }
 },
 "nbformat": 4,
 "nbformat_minor": 4
}
