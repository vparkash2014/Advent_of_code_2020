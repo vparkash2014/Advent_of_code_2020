{
 "cells": [
  {
   "cell_type": "markdown",
   "metadata": {},
   "source": [
    "# Day 5: Binary Boarding ---\n",
    "\n",
    "You board your plane only to discover a new problem: you dropped your boarding pass! You aren't sure which seat is yours, and all of the flight attendants are busy with the flood of people that suddenly made it through passport control.\n",
    "\n",
    "You write a quick program to use your phone's camera to scan all of the nearby boarding passes (your puzzle input); perhaps you can find your seat through process of elimination.\n",
    "\n",
    "Instead of zones or groups, this airline uses binary space partitioning to seat people. A seat might be specified like FBFBBFFRLR, where F means \"front\", B means \"back\", L means \"left\", and R means \"right\".\n",
    "\n",
    "The first 7 characters will either be F or B; these specify exactly one of the 128 rows on the plane (numbered 0 through 127). Each letter tells you which half of a region the given seat is in. Start with the whole list of rows; the first letter indicates whether the seat is in the front (0 through 63) or the back (64 through 127). The next letter indicates which half of that region the seat is in, and so on until you're left with exactly one row.\n",
    "\n",
    "For example, consider just the first seven characters of FBFBBFFRLR:\n",
    "```\n",
    "Start by considering the whole range, rows 0 through 127.\n",
    "F means to take the lower half, keeping rows 0 through 63.\n",
    "B means to take the upper half, keeping rows 32 through 63.\n",
    "F means to take the lower half, keeping rows 32 through 47.\n",
    "B means to take the upper half, keeping rows 40 through 47.\n",
    "B keeps rows 44 through 47.\n",
    "F keeps rows 44 through 45.\n",
    "The final F keeps the lower of the two, row 44.\n",
    "```\n",
    "The last three characters will be either L or R; these specify exactly one of the 8 columns of seats on the plane (numbered 0 through 7). The same process as above proceeds again, this time with only three steps. L means to keep the lower half, while R means to keep the upper half.\n",
    "\n",
    "For example, consider just the last 3 characters of FBFBBFFRLR:\n",
    "\n",
    "Start by considering the whole range, columns 0 through 7.\n",
    "R means to take the upper half, keeping columns 4 through 7.\n",
    "L means to take the lower half, keeping columns 4 through 5.\n",
    "The final R keeps the upper of the two, column 5.\n",
    "So, decoding FBFBBFFRLR reveals that it is the seat at row 44, column 5.\n",
    "\n",
    "Every seat also has a unique seat ID: multiply the row by 8, then add the column. In this example, the seat has ID 44 * 8 + 5 = 357.\n",
    "\n",
    "Here are some other boarding passes:\n",
    "```\n",
    "BFFFBBFRRR: row 70, column 7, seat ID 567.\n",
    "FFFBBBFRRR: row 14, column 7, seat ID 119.\n",
    "BBFFBBFRLL: row 102, column 4, seat ID 820.\n",
    "```\n",
    "As a sanity check, look through your list of boarding passes. What is the highest seat ID on a boarding pass?"
   ]
  },
  {
   "cell_type": "code",
   "execution_count": 1,
   "metadata": {
    "ExecuteTime": {
     "end_time": "2020-12-09T00:26:42.663396Z",
     "start_time": "2020-12-09T00:26:41.979597Z"
    }
   },
   "outputs": [],
   "source": [
    "import pandas as pd\n",
    "import numpy as np"
   ]
  },
  {
   "cell_type": "code",
   "execution_count": 2,
   "metadata": {
    "ExecuteTime": {
     "end_time": "2020-12-09T00:26:42.673956Z",
     "start_time": "2020-12-09T00:26:42.665626Z"
    }
   },
   "outputs": [],
   "source": [
    "def findSeat(ticket, num_seats, lower_half, upper_half):\n",
    "    \"\"\"\n",
    "    Finds the either the row or column number \n",
    "    \n",
    "    Parameters\n",
    "    ----------\n",
    "    ticket : the boarding pass string\n",
    "    num_seats : number of either columns or rows on the plane\n",
    "    lower_half : the character that represents the lower half (column: 'L', row: 'F')\n",
    "    upper_half : the character that represents the upper half (column: 'R', row: 'B')\n",
    "    \n",
    "    Returns\n",
    "    -------\n",
    "    seat : the column or row number\n",
    "    \"\"\"  \n",
    "    \n",
    "    row_char = ticket.count(lower_half)+ticket.count(upper_half)\n",
    "    seat_range = np.array([0, num_seats - 1])\n",
    "    \n",
    "    for ind in ticket:\n",
    "        half = round( (seat_range[1] - seat_range[0]) / 2 )\n",
    "        if ind == lower_half:\n",
    "            seat_range[1] -= half\n",
    "        elif ind == upper_half:\n",
    "            seat_range[0] += half\n",
    "\n",
    "\n",
    "    if lower_half == 'F': # this is a row seat\n",
    "        if ticket[row_char - 1] == lower_half:\n",
    "            seat = np.min(seat_range)\n",
    "        elif ticket[row_char - 1] == upper_half:\n",
    "            seat = np.max(seat_range)\n",
    "    elif lower_half == 'L': # this is a column seat\n",
    "        if ticket[len(ticket) -1] == lower_half:\n",
    "            seat = np.min(seat_range)\n",
    "        elif ticket[len(ticket) -1] == upper_half:\n",
    "            seat = np.max(seat_range)\n",
    "            \n",
    "    return seat\n",
    "\n",
    "def seatID(input, num_row = 128, num_col = 8):\n",
    "    \"\"\"\n",
    "    Finds the seat IDs\n",
    "    \n",
    "    Parameters\n",
    "    ----------\n",
    "    input : the input file in quotes\n",
    "    num_row : the number of rows on the plane (default: 128)\n",
    "    num_col : the number of columns on the plane (default: 8)\n",
    "    \n",
    "    Returns\n",
    "    -------\n",
    "    ids : the array of ids \n",
    "    \"\"\"  \n",
    "    \n",
    "    data = pd.read_csv(input_file, names= [\"tickets\"])\n",
    "    ids = []\n",
    "    for ticket in data.tickets:\n",
    "        row = findSeat(ticket, num_row,'F', 'B')\n",
    "        column = findSeat(ticket, num_col, 'L', 'R')\n",
    "        ids.append(row * 8 + column)\n",
    "    return ids\n",
    "\n",
    "def possibleID(num_row = 128, num_col = 8):\n",
    "    \"\"\"\n",
    "    Finds all the possibe the seat IDs on the plane\n",
    "    \n",
    "    Parameters\n",
    "    ----------\n",
    "    num_row : the number of rows on the plane (default: 128)\n",
    "    num_col : the number of columns on the plane (default: 8)\n",
    "    \n",
    "    Returns\n",
    "    -------\n",
    "    ids : the array of ids \n",
    "    \"\"\"  \n",
    "    ids = [row * 8 + column for row in range(num_row) for column in range(num_col)]\n",
    "    return ids\n",
    "                                    "
   ]
  },
  {
   "cell_type": "code",
   "execution_count": 3,
   "metadata": {
    "ExecuteTime": {
     "end_time": "2020-12-09T00:26:42.752193Z",
     "start_time": "2020-12-09T00:26:42.676458Z"
    }
   },
   "outputs": [
    {
     "name": "stdout",
     "output_type": "stream",
     "text": [
      "the test ids are [357, 567, 119, 820]\n",
      "The highest seat ID on a boarding pass is 906\n"
     ]
    }
   ],
   "source": [
    "input_file = 'Day_5_test.txt'\n",
    "\n",
    "ids = seatID(input_file)\n",
    "\n",
    "print('the test ids are', ids)\n",
    "\n",
    "\n",
    "input_file = 'Day_5_input.txt'\n",
    "\n",
    "ids = seatID(input_file)\n",
    "\n",
    "print('The highest seat ID on a boarding pass is', np.max(ids))"
   ]
  },
  {
   "cell_type": "markdown",
   "metadata": {},
   "source": [
    "# Part Two\n",
    "\n",
    "Ding! The \"fasten seat belt\" signs have turned on. Time to find your seat.\n",
    "\n",
    "It's a completely full flight, so your seat should be the only missing boarding pass in your list. However, there's a catch: some of the seats at the very front and back of the plane don't exist on this aircraft, so they'll be missing from your list as well.\n",
    "\n",
    "Your seat wasn't at the very front or back, though; the seats with IDs +1 and -1 from yours will be in your list.\n",
    "\n",
    "What is the ID of your seat?"
   ]
  },
  {
   "cell_type": "code",
   "execution_count": 4,
   "metadata": {
    "ExecuteTime": {
     "end_time": "2020-12-09T00:26:42.905512Z",
     "start_time": "2020-12-09T00:26:42.754247Z"
    }
   },
   "outputs": [
    {
     "name": "stdout",
     "output_type": "stream",
     "text": [
      "Your ticket ID is: [519]\n"
     ]
    }
   ],
   "source": [
    "all_ids = possibleID()\n",
    "\n",
    "short_all_ids = [id_num for id_num in all_ids if (id_num >= np.min(ids)) and (id_num <= np.max(ids)) ]\n",
    "\n",
    "print('Your ticket ID is:', list( set(short_all_ids).difference(ids) ) )"
   ]
  }
 ],
 "metadata": {
  "kernelspec": {
   "display_name": "Python 3",
   "language": "python",
   "name": "python3"
  },
  "language_info": {
   "codemirror_mode": {
    "name": "ipython",
    "version": 3
   },
   "file_extension": ".py",
   "mimetype": "text/x-python",
   "name": "python",
   "nbconvert_exporter": "python",
   "pygments_lexer": "ipython3",
   "version": "3.7.8"
  },
  "latex_envs": {
   "LaTeX_envs_menu_present": true,
   "autoclose": false,
   "autocomplete": true,
   "bibliofile": "biblio.bib",
   "cite_by": "apalike",
   "current_citInitial": 1,
   "eqLabelWithNumbers": true,
   "eqNumInitial": 1,
   "hotkeys": {
    "equation": "Ctrl-E",
    "itemize": "Ctrl-I"
   },
   "labels_anchors": false,
   "latex_user_defs": false,
   "report_style_numbering": false,
   "user_envs_cfg": false
  },
  "toc": {
   "base_numbering": 1,
   "nav_menu": {},
   "number_sections": true,
   "sideBar": true,
   "skip_h1_title": false,
   "title_cell": "Table of Contents",
   "title_sidebar": "Contents",
   "toc_cell": false,
   "toc_position": {},
   "toc_section_display": true,
   "toc_window_display": false
  },
  "varInspector": {
   "cols": {
    "lenName": 16,
    "lenType": 16,
    "lenVar": 40
   },
   "kernels_config": {
    "python": {
     "delete_cmd_postfix": "",
     "delete_cmd_prefix": "del ",
     "library": "var_list.py",
     "varRefreshCmd": "print(var_dic_list())"
    },
    "r": {
     "delete_cmd_postfix": ") ",
     "delete_cmd_prefix": "rm(",
     "library": "var_list.r",
     "varRefreshCmd": "cat(var_dic_list()) "
    }
   },
   "types_to_exclude": [
    "module",
    "function",
    "builtin_function_or_method",
    "instance",
    "_Feature"
   ],
   "window_display": false
  }
 },
 "nbformat": 4,
 "nbformat_minor": 4
}
