{
 "cells": [
  {
   "cell_type": "markdown",
   "metadata": {},
   "source": [
    "# Day 4: Passport Processing ---\n",
    "You arrive at the airport only to realize that you grabbed your North Pole Credentials instead of your passport. While these documents are extremely similar, North Pole Credentials aren't issued by a country and therefore aren't actually valid documentation for travel in most of the world.\n",
    "It seems like you're not the only one having problems, though; a very long line has formed for the automatic passport scanners, and the delay could upset your travel itinerary.\n",
    "Due to some questionable network security, you realize you might be able to solve both of these problems at the same time.\n",
    "The automatic passport scanners are slow because they're having trouble detecting which passports have all required fields. The expected fields are as follows:\n",
    "```byr (Birth Year)\n",
    "iyr (Issue Year)\n",
    "eyr (Expiration Year)\n",
    "hgt (Height)\n",
    "hcl (Hair Color)\n",
    "ecl (Eye Color)\n",
    "pid (Passport ID)\n",
    "cid (Country ID)\n",
    "```\n",
    "Passport data is validated in batch files (your puzzle input). Each passport is represented as a sequence of key:value pairs separated by spaces or newlines. Passports are separated by blank lines.\n",
    "Here is an example batch file containing four passports:\n",
    "```\n",
    "ecl:gry pid:860033327 eyr:2020 hcl:#fffffd\n",
    "byr:1937 iyr:2017 cid:147 hgt:183cm\n",
    "\n",
    "iyr:2013 ecl:amb cid:350 eyr:2023 pid:028048884\n",
    "hcl:#cfa07d byr:1929\n",
    "\n",
    "hcl:#ae17e1 iyr:2013\n",
    "eyr:2024\n",
    "ecl:brn pid:760753108 byr:1931\n",
    "hgt:179cm\n",
    "\n",
    "hcl:#cfa07d eyr:2025 pid:166559648\n",
    "iyr:2011 ecl:brn hgt:59in\n",
    "```\n",
    "\n",
    "The first passport is valid - all eight fields are present. The second passport is invalid - it is missing hgt (the Height field).\n",
    "The third passport is interesting; the only missing field is cid, so it looks like data from North Pole Credentials, not a passport at all! Surely, nobody would mind if you made the system temporarily ignore missing cid fields. Treat this \"passport\" as valid.\n",
    "The fourth passport is missing two fields, cid and byr. Missing cid is fine, but missing any other field is not, so this passport is invalid.\n",
    "According to the above rules, your improved system would report 2 valid passports.\n",
    "Count the number of valid passports - those that have all required fields. Treat cid as optional. In your batch file, how many passports are valid?"
   ]
  },
  {
   "cell_type": "code",
   "execution_count": 1,
   "metadata": {
    "ExecuteTime": {
     "end_time": "2020-12-08T04:13:00.107931Z",
     "start_time": "2020-12-08T04:13:00.105276Z"
    }
   },
   "outputs": [],
   "source": [
    "import re"
   ]
  },
  {
   "cell_type": "code",
   "execution_count": 2,
   "metadata": {
    "ExecuteTime": {
     "end_time": "2020-12-08T04:13:00.115716Z",
     "start_time": "2020-12-08T04:13:00.110418Z"
    }
   },
   "outputs": [],
   "source": [
    "def creatingID(filename):\n",
    "    \"\"\"\n",
    "    Reads the batch and formats the passports as arrays that are easier to work with\n",
    "    \n",
    "    Parameters\n",
    "    ----------\n",
    "    filename : the filename to the batch file. Make sure this is in quotes\n",
    "\n",
    "    Returns\n",
    "    -------\n",
    "    passports : array of the passports\n",
    "    \"\"\"    \n",
    "    with open(filename, 'r') as f:\n",
    "        data = \"\"\n",
    "        for line in f:\n",
    "            if len(line) > 0:\n",
    "                data += line + \" \"\n",
    "            else:\n",
    "                data = passport + \"\\n\"\n",
    "    passports = data.split(\"\\n \\n\")\n",
    "    return passports\n",
    "\n",
    "def passportCheck(passports):\n",
    "    \"\"\"\n",
    "    Checks each passport to see if is valid by checking if all the valid information is in the string\n",
    "    \n",
    "    Parameters\n",
    "    ----------\n",
    "    filename : array of the passports\n",
    "\n",
    "    Returns\n",
    "    -------\n",
    "   num_valid : number of valid passports\n",
    "    \"\"\"  \n",
    "    fields = ['byr', 'iyr', 'eyr', 'hgt', 'hcl', 'ecl', 'pid']\n",
    "    \n",
    "    #'cid'\n",
    "    num_valid = 0\n",
    "    for passport in passports:\n",
    "        check = [info in passport for info in fields]\n",
    "        if sum(check) == len(fields):\n",
    "            num_valid += 1 \n",
    "            \n",
    "    return num_valid\n",
    "        "
   ]
  },
  {
   "cell_type": "code",
   "execution_count": 3,
   "metadata": {
    "ExecuteTime": {
     "end_time": "2020-12-08T04:13:00.123348Z",
     "start_time": "2020-12-08T04:13:00.118706Z"
    }
   },
   "outputs": [
    {
     "name": "stdout",
     "output_type": "stream",
     "text": [
      "The number of valid passports are 10\n",
      "The number of valid passports are 196\n"
     ]
    }
   ],
   "source": [
    "passports = creatingID('Day_4_test.txt')\n",
    "print('The number of valid passports are', passportCheck(passports))\n",
    "\n",
    "passports = creatingID('Day_4_input.txt')\n",
    "print('The number of valid passports are', passportCheck(passports))"
   ]
  },
  {
   "cell_type": "markdown",
   "metadata": {},
   "source": [
    "# Part Two \n",
    "\n",
    "The line is moving more quickly now, but you overhear airport security talking about how passports with invalid data are getting through. Better add some data validation, quick!\n",
    "\n",
    "You can continue to ignore the cid field, but each other field has strict rules about what values are valid for automatic validation:\n",
    "\n",
    "```\n",
    "byr (Birth Year) - four digits; at least 1920 and at most 2002.\n",
    "iyr (Issue Year) - four digits; at least 2010 and at most 2020.\n",
    "eyr (Expiration Year) - four digits; at least 2020 and at most 2030.\n",
    "hgt (Height) - a number followed by either cm or in:\n",
    "If cm, the number must be at least 150 and at most 193.\n",
    "If in, the number must be at least 59 and at most 76.\n",
    "hcl (Hair Color) - a # followed by exactly six characters 0-9 or a-f.\n",
    "ecl (Eye Color) - exactly one of: amb blu brn gry grn hzl oth.\n",
    "pid (Passport ID) - a nine-digit number, including leading zeroes.\n",
    "cid (Country ID) - ignored, missing or not.\n",
    "```\n",
    "Your job is to count the passports where all required fields are both present and valid according to the above rules. Here are some example values:\n",
    "\n",
    "```\n",
    "byr valid:   2002\n",
    "byr invalid: 2003\n",
    "\n",
    "hgt valid:   60in\n",
    "hgt valid:   190cm\n",
    "hgt invalid: 190in\n",
    "hgt invalid: 190\n",
    "\n",
    "hcl valid:   #123abc\n",
    "hcl invalid: #123abz\n",
    "hcl invalid: 123abc\n",
    "\n",
    "ecl valid:   brn\n",
    "ecl invalid: wat\n",
    "\n",
    "pid valid:   000000001\n",
    "pid invalid: 0123456789\n",
    "Here are some invalid passports:\n",
    "\n",
    "eyr:1972 cid:100\n",
    "hcl:#18171d ecl:amb hgt:170 pid:186cm iyr:2018 byr:1926\n",
    "\n",
    "iyr:2019\n",
    "hcl:#602927 eyr:1967 hgt:170cm\n",
    "ecl:grn pid:012533040 byr:1946\n",
    "\n",
    "hcl:dab227 iyr:2012\n",
    "ecl:brn hgt:182cm pid:021572410 eyr:2020 byr:1992 cid:277\n",
    "\n",
    "hgt:59cm ecl:zzz\n",
    "eyr:2038 hcl:74454a iyr:2023\n",
    "pid:3556412378 byr:2007\n",
    "Here are some valid passports:\n",
    "\n",
    "pid:087499704 hgt:74in ecl:grn iyr:2012 eyr:2030 byr:1980\n",
    "hcl:#623a2f\n",
    "\n",
    "eyr:2029 ecl:blu cid:129 byr:1989\n",
    "iyr:2014 pid:896056539 hcl:#a97842 hgt:165cm\n",
    "\n",
    "hcl:#888785\n",
    "hgt:164cm byr:2001 iyr:2015 cid:88\n",
    "pid:545766238 ecl:hzl\n",
    "eyr:2022\n",
    "\n",
    "iyr:2010 hgt:158cm hcl:#b6652a ecl:blu byr:1944 eyr:2021 pid:093154719\n",
    "```\n",
    "Count the number of valid passports - those that have all required fields and valid values. Continue to treat cid as optional. In your batch file, how many passports are valid?"
   ]
  },
  {
   "cell_type": "code",
   "execution_count": 4,
   "metadata": {
    "ExecuteTime": {
     "end_time": "2020-12-08T04:13:00.137241Z",
     "start_time": "2020-12-08T04:13:00.125498Z"
    }
   },
   "outputs": [],
   "source": [
    "def passportCheckcond(passports):\n",
    "    \"\"\"\n",
    "    Checks each passport to see if is valid by checking if all the valid information is in the string.\n",
    "    There are extra conditions for this check\n",
    "    \n",
    "    Parameters\n",
    "    ----------\n",
    "    filename : array of the passports\n",
    "\n",
    "    Returns\n",
    "    -------\n",
    "    num_valid : number of valid passports\n",
    "    \"\"\"  \n",
    "    fields = ['byr', 'iyr', 'eyr', 'hgt', 'hcl', 'ecl', 'pid']\n",
    "    ecl_options = ['amb', 'blu', 'brn', 'gry', 'grn', 'hzl', 'oth']\n",
    "    rex_hcl = re.compile(\"^#{1}[a-f0-9]{6}$\")\n",
    "    rex_pid = re.compile(\"^[0-9]{9}$\")\n",
    "    num_valid = 0\n",
    "\n",
    "    for passport in passports:\n",
    "        check_cond = 0\n",
    "        check = [info in passport for info in fields]\n",
    "        if sum(check) == len(fields):\n",
    "            passport = passport.replace('\\n', '')\n",
    "            passport = passport.split(\" \")\n",
    "\n",
    "            check_byr = [i for i in passport if 'byr' in i]\n",
    "            if check_byr and (int(check_byr[0].split(':')[1]) >= int(1920) and int(check_byr[0].split(':')[1]) <= int(2002)):\n",
    "                check_cond += 1\n",
    "\n",
    "            check_iyr = [i for i in passport if 'iyr' in i]\n",
    "            if check_iyr and (int(check_iyr[0].split(':')[1]) >= int(2010) and int(check_iyr[0].split(':')[1]) <= int(2020)):\n",
    "                check_cond += 1\n",
    "\n",
    "            check_eyr = [i for i in passport if 'eyr' in i]\n",
    "            if check_eyr and (int(check_eyr[0].split(':')[1]) >= int(2020) and int(check_eyr[0].split(':')[1]) <= int(2030)):\n",
    "                check_cond += 1\n",
    "\n",
    "            check_hgt = [i for i in passport if 'hgt' in i]\n",
    "            if check_hgt:\n",
    "                if 'cm' in check_hgt[0] and (int(check_hgt[0].split(':')[1].replace('cm', '')) >= int(150) and int(check_hgt[0].split(':')[1].replace('cm', '')) <= int(193)):\n",
    "                    check_cond += 1\n",
    "                elif 'in' in check_hgt[0] and (int(check_hgt[0].split(':')[1].replace('in', '')) >= int(59) and int(check_hgt[0].split(':')[1].replace('in', '')) <= int(76)):\n",
    "                    check_cond += 1\n",
    "\n",
    "            check_hcl = [i for i in passport if 'hcl' in i]\n",
    "            if check_hcl and rex_hcl.match(check_hcl[0].split(':')[1]):\n",
    "                check_cond += 1\n",
    "\n",
    "            check_ecl = [i for i in passport if 'ecl' in i]\n",
    "            if check_ecl and sum([color in check_ecl[0].split(':')[1] for color in ecl_options]) == 1:\n",
    "                check_cond += 1\n",
    "\n",
    "            check_pid = [i for i in passport if 'pid' in i]\n",
    "            if check_pid and rex_pid.match(check_pid[0].split(':')[1]):\n",
    "                check_cond += 1\n",
    "            \n",
    "            if check_cond == len(fields):\n",
    "                num_valid += 1\n",
    "            \n",
    "    return num_valid    "
   ]
  },
  {
   "cell_type": "code",
   "execution_count": 5,
   "metadata": {
    "ExecuteTime": {
     "end_time": "2020-12-08T04:13:00.147391Z",
     "start_time": "2020-12-08T04:13:00.140067Z"
    }
   },
   "outputs": [
    {
     "name": "stdout",
     "output_type": "stream",
     "text": [
      "The number of valid passports are 6\n",
      "The number of valid passports are 114\n"
     ]
    }
   ],
   "source": [
    "passports = creatingID('Day_4_test.txt')\n",
    "print('The number of valid passports are', passportCheckcond(passports))\n",
    "\n",
    "passports = creatingID('Day_4_input.txt')\n",
    "print('The number of valid passports are', passportCheckcond(passports))"
   ]
  }
 ],
 "metadata": {
  "kernelspec": {
   "display_name": "Python 3",
   "language": "python",
   "name": "python3"
  },
  "language_info": {
   "codemirror_mode": {
    "name": "ipython",
    "version": 3
   },
   "file_extension": ".py",
   "mimetype": "text/x-python",
   "name": "python",
   "nbconvert_exporter": "python",
   "pygments_lexer": "ipython3",
   "version": "3.7.8"
  },
  "latex_envs": {
   "LaTeX_envs_menu_present": true,
   "autoclose": false,
   "autocomplete": true,
   "bibliofile": "biblio.bib",
   "cite_by": "apalike",
   "current_citInitial": 1,
   "eqLabelWithNumbers": true,
   "eqNumInitial": 1,
   "hotkeys": {
    "equation": "Ctrl-E",
    "itemize": "Ctrl-I"
   },
   "labels_anchors": false,
   "latex_user_defs": false,
   "report_style_numbering": false,
   "user_envs_cfg": false
  },
  "toc": {
   "base_numbering": 1,
   "nav_menu": {},
   "number_sections": true,
   "sideBar": true,
   "skip_h1_title": false,
   "title_cell": "Table of Contents",
   "title_sidebar": "Contents",
   "toc_cell": false,
   "toc_position": {},
   "toc_section_display": true,
   "toc_window_display": false
  },
  "varInspector": {
   "cols": {
    "lenName": 16,
    "lenType": 16,
    "lenVar": 40
   },
   "kernels_config": {
    "python": {
     "delete_cmd_postfix": "",
     "delete_cmd_prefix": "del ",
     "library": "var_list.py",
     "varRefreshCmd": "print(var_dic_list())"
    },
    "r": {
     "delete_cmd_postfix": ") ",
     "delete_cmd_prefix": "rm(",
     "library": "var_list.r",
     "varRefreshCmd": "cat(var_dic_list()) "
    }
   },
   "types_to_exclude": [
    "module",
    "function",
    "builtin_function_or_method",
    "instance",
    "_Feature"
   ],
   "window_display": false
  }
 },
 "nbformat": 4,
 "nbformat_minor": 4
}
