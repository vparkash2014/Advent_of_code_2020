{
 "cells": [
  {
   "cell_type": "markdown",
   "metadata": {},
   "source": [
    "# Day 3: Toboggan Trajectory \n",
    "\n",
    "With the toboggan login problems resolved, you set off toward the airport. While travel by toboggan might be easy, it's certainly not safe: there's very minimal steering and the area is covered in trees. You'll need to see which angles will take you near the fewest trees.\n",
    "\n",
    "Due to the local geology, trees in this area only grow on exact integer coordinates in a grid. You make a map (your puzzle input) of the open squares (.) and trees (#) you can see. For example:\n",
    "\n",
    "```..##....... \n",
    "#...#...#..\n",
    ".#....#..#.\n",
    "..#.#...#.#\n",
    ".#...##..#.\n",
    "..#.##.....\n",
    ".#.#.#....#\n",
    ".#........#\n",
    "#.##...#...\n",
    "#...##....#\n",
    ".#..#...#.#\n",
    "```\n",
    "\n",
    "These aren't the only trees, though; due to something you read about once involving arboreal genetics and biome stability, the same pattern repeats to the right many times:\n",
    "```\n",
    "..##.........##.........##.........##.........##.........##.......  --->\n",
    "#...#...#..#...#...#..#...#...#..#...#...#..#...#...#..#...#...#..\n",
    ".#....#..#..#....#..#..#....#..#..#....#..#..#....#..#..#....#..#.\n",
    "..#.#...#.#..#.#...#.#..#.#...#.#..#.#...#.#..#.#...#.#..#.#...#.#\n",
    ".#...##..#..#...##..#..#...##..#..#...##..#..#...##..#..#...##..#.\n",
    "..#.##.......#.##.......#.##.......#.##.......#.##.......#.##.....  --->\n",
    ".#.#.#....#.#.#.#....#.#.#.#....#.#.#.#....#.#.#.#....#.#.#.#....#\n",
    ".#........#.#........#.#........#.#........#.#........#.#........#\n",
    "#.##...#...#.##...#...#.##...#...#.##...#...#.##...#...#.##...#...\n",
    "#...##....##...##....##...##....##...##....##...##....##...##....#\n",
    ".#..#...#.#.#..#...#.#.#..#...#.#.#..#...#.#.#..#...#.#.#..#...#.#  --->\n",
    "```\n",
    "You start on the open square (.) in the top-left corner and need to reach the bottom (below the bottom-most row on your map).\n",
    "\n",
    "The toboggan can only follow a few specific slopes (you opted for a cheaper model that prefers rational numbers); start by counting all the trees you would encounter for the slope right 3, down 1:\n",
    "\n",
    "From your starting position at the top-left, check the position that is right 3 and down 1. Then, check the position that is right 3 and down 1 from there, and so on until you go past the bottom of the map.\n",
    "\n",
    "The locations you'd check in the above example are marked here with O where there was an open square and X where there was a tree:\n",
    "```\n",
    "..##.........##.........##.........##.........##.........##.......  --->\n",
    "#..O#...#..#...#...#..#...#...#..#...#...#..#...#...#..#...#...#..\n",
    ".#....X..#..#....#..#..#....#..#..#....#..#..#....#..#..#....#..#.\n",
    "..#.#...#O#..#.#...#.#..#.#...#.#..#.#...#.#..#.#...#.#..#.#...#.#\n",
    ".#...##..#..X...##..#..#...##..#..#...##..#..#...##..#..#...##..#.\n",
    "..#.##.......#.X#.......#.##.......#.##.......#.##.......#.##.....  --->\n",
    ".#.#.#....#.#.#.#.O..#.#.#.#....#.#.#.#....#.#.#.#....#.#.#.#....#\n",
    ".#........#.#........X.#........#.#........#.#........#.#........#\n",
    "#.##...#...#.##...#...#.X#...#...#.##...#...#.##...#...#.##...#...\n",
    "#...##....##...##....##...#X....##...##....##...##....##...##....#\n",
    ".#..#...#.#.#..#...#.#.#..#...X.#.#..#...#.#.#..#...#.#.#..#...#.#  --->\n",
    "```\n",
    "In this example, traversing the map using this slope would cause you to encounter 7 trees.\n",
    "\n",
    "Starting at the top-left corner of your map and following a slope of right 3 and down 1, how many trees would you encounter?"
   ]
  },
  {
   "cell_type": "code",
   "execution_count": 1,
   "metadata": {
    "ExecuteTime": {
     "end_time": "2020-12-07T06:36:22.211196Z",
     "start_time": "2020-12-07T06:36:21.849963Z"
    }
   },
   "outputs": [],
   "source": [
    "import pandas as pd\n",
    "import math\n",
    "import numpy as np"
   ]
  },
  {
   "cell_type": "code",
   "execution_count": 2,
   "metadata": {
    "ExecuteTime": {
     "end_time": "2020-12-07T06:36:22.219666Z",
     "start_time": "2020-12-07T06:36:22.214055Z"
    }
   },
   "outputs": [],
   "source": [
    "\n",
    "def fullpath(path, num_repeats):\n",
    "    \"\"\"\n",
    "    Create the full map of the slope \n",
    "    \n",
    "    Parameters\n",
    "    ----------\n",
    "    path : the snippet of the map that was provided\n",
    "    num_repeats: the number of times that the pattern needs to be repeated to right for you to get to the base of the slope\n",
    "    \n",
    "    Returns\n",
    "    -------\n",
    "    final_path : the full path. \n",
    "    \"\"\"    \n",
    "    final_path = path\n",
    "    \n",
    "    for _ in range(num_repeats):\n",
    "        final_path = final_path.str.cat(path)\n",
    "    return final_path\n",
    "\n",
    "\n",
    "def numberOfTrees(input_file, down, right):\n",
    "    \"\"\"\n",
    "    Measures the number of trees in the path\n",
    "    \n",
    "    Parameters\n",
    "    ----------\n",
    "    input_file: name of the file that contains the snippet of code\n",
    "    down: the number of steps taken in downward direction at each turn\n",
    "    right: the number of steps taken in right direction at each turn\n",
    "    \n",
    "    Returns\n",
    "    -------\n",
    "    trees : number of trees that you encounter\n",
    "    \"\"\"    \n",
    "    data = pd.read_csv(input_file, names= [\"path\"])\n",
    "    \n",
    "    y_num = data.shape[0]\n",
    "    x_num = data.path.str.len()[0]\n",
    "    \n",
    "    turn_num = y_num / down\n",
    "    x_length = turn_num * right\n",
    "    num_repeats = math.ceil( x_length / x_num )\n",
    "    \n",
    "    path = fullpath(data.path, num_repeats)\n",
    "    \n",
    "    x_pos = 0\n",
    "    y_pos = 0\n",
    "    trees = 0\n",
    "    \n",
    "    for _ in range(round(turn_num)):\n",
    "        if path[y_pos][x_pos] == '#':\n",
    "            trees += 1\n",
    "        x_pos += right\n",
    "        y_pos += down\n",
    "    \n",
    "    return trees\n"
   ]
  },
  {
   "cell_type": "code",
   "execution_count": 3,
   "metadata": {
    "ExecuteTime": {
     "end_time": "2020-12-07T06:36:22.265208Z",
     "start_time": "2020-12-07T06:36:22.226266Z"
    }
   },
   "outputs": [
    {
     "name": "stdout",
     "output_type": "stream",
     "text": [
      "the number of trees that the test map encouters is: 7\n",
      "The function works:  True\n",
      "\n",
      "the number of trees that you encounter are: 198\n"
     ]
    }
   ],
   "source": [
    "down = 1\n",
    "right = 3\n",
    "trees = numberOfTrees('Day_3_test.txt', down, right)\n",
    "print(\"the number of trees that the test map encouters is:\", trees)\n",
    "print(\"The function works: \", trees == 7)\n",
    "print(\"\")\n",
    "      \n",
    "trees = numberOfTrees('Day_3_input.txt', down, right)\n",
    "print(\"the number of trees that you encounter are:\", trees)"
   ]
  },
  {
   "cell_type": "markdown",
   "metadata": {},
   "source": [
    "#Part Two\n",
    "\n",
    "Time to check the rest of the slopes - you need to minimize the probability of a sudden arboreal stop, after all.\n",
    "\n",
    "Determine the number of trees you would encounter if, for each of the following slopes, you start at the top-left corner and traverse the map all the way to the bottom:\n",
    "```\n",
    "Right 1, down 1.\n",
    "Right 3, down 1. (This is the slope you already checked.)\n",
    "Right 5, down 1.\n",
    "Right 7, down 1.\n",
    "Right 1, down 2.\n",
    "```\n",
    "In the above example, these slopes would find 2, 7, 3, 4, and 2 tree(s) respectively; multiplied together, these produce the answer 336.\n",
    "\n",
    "What do you get if you multiply together the number of trees encountered on each of the listed slopes?"
   ]
  },
  {
   "cell_type": "code",
   "execution_count": 4,
   "metadata": {
    "ExecuteTime": {
     "end_time": "2020-12-07T06:36:22.398379Z",
     "start_time": "2020-12-07T06:36:22.267293Z"
    }
   },
   "outputs": [
    {
     "name": "stdout",
     "output_type": "stream",
     "text": [
      "The product for the test is: 336\n",
      "\n",
      "[84, 198, 72, 81, 53]\n",
      "The product is: 5140884672\n"
     ]
    }
   ],
   "source": [
    "total_tree = []\n",
    "right = [1, 3, 5, 7, 1]\n",
    "down = [1, 1, 1, 1, 2]\n",
    "for i in range(len(right)):\n",
    "    trees = numberOfTrees('Day_3_test.txt', down[i], right[i])\n",
    "    total_tree.append(trees)\n",
    "    \n",
    "print('The product for the test is:', np.prod(total_tree) )\n",
    "print(\"\")\n",
    "\n",
    "total_tree = []\n",
    "for i in range(len(right)):\n",
    "    trees = numberOfTrees('Day_3_input.txt', down[i], right[i])\n",
    "    total_tree.append(trees)\n",
    "print(total_tree)\n",
    "print('The product is:', np.prod(total_tree) )"
   ]
  }
 ],
 "metadata": {
  "kernelspec": {
   "display_name": "Python 3",
   "language": "python",
   "name": "python3"
  },
  "language_info": {
   "codemirror_mode": {
    "name": "ipython",
    "version": 3
   },
   "file_extension": ".py",
   "mimetype": "text/x-python",
   "name": "python",
   "nbconvert_exporter": "python",
   "pygments_lexer": "ipython3",
   "version": "3.7.8"
  },
  "latex_envs": {
   "LaTeX_envs_menu_present": true,
   "autoclose": false,
   "autocomplete": true,
   "bibliofile": "biblio.bib",
   "cite_by": "apalike",
   "current_citInitial": 1,
   "eqLabelWithNumbers": true,
   "eqNumInitial": 1,
   "hotkeys": {
    "equation": "Ctrl-E",
    "itemize": "Ctrl-I"
   },
   "labels_anchors": false,
   "latex_user_defs": false,
   "report_style_numbering": false,
   "user_envs_cfg": false
  },
  "toc": {
   "base_numbering": 1,
   "nav_menu": {},
   "number_sections": true,
   "sideBar": true,
   "skip_h1_title": false,
   "title_cell": "Table of Contents",
   "title_sidebar": "Contents",
   "toc_cell": false,
   "toc_position": {},
   "toc_section_display": true,
   "toc_window_display": false
  },
  "varInspector": {
   "cols": {
    "lenName": 16,
    "lenType": 16,
    "lenVar": 40
   },
   "kernels_config": {
    "python": {
     "delete_cmd_postfix": "",
     "delete_cmd_prefix": "del ",
     "library": "var_list.py",
     "varRefreshCmd": "print(var_dic_list())"
    },
    "r": {
     "delete_cmd_postfix": ") ",
     "delete_cmd_prefix": "rm(",
     "library": "var_list.r",
     "varRefreshCmd": "cat(var_dic_list()) "
    }
   },
   "types_to_exclude": [
    "module",
    "function",
    "builtin_function_or_method",
    "instance",
    "_Feature"
   ],
   "window_display": false
  }
 },
 "nbformat": 4,
 "nbformat_minor": 4
}
